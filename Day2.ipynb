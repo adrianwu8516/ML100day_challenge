{
 "cells": [
  {
   "cell_type": "markdown",
   "metadata": {},
   "source": [
    "### [作業目標]\n",
    "了解機器學習適合應用的領域與範疇。\n",
    "\n",
    "### [作業重點]\n",
    "透過瞭解機器學習的運作方式，找出非常適用機器學習應用的領域及其原因\n",
    "\n",
    "#### 作業\n",
    "請找出一個你認為機器學習可以發光發熱的領域並闡述原因?"
   ]
  },
  {
   "cell_type": "markdown",
   "metadata": {},
   "source": [
    "我認為[數位廣告業界]是一個非常適合機器學習領域的，主要是因為\n",
    "\n",
    "1. 廣告業界數據量巨大，很多中大型網站每月的資料會破億，符合機器學習建模所需要的巨量數據\n",
    "2. 而且為了計算出每一位用戶適合的個人化廣告場景，每位用戶的每一筆廣告接觸數據都會有意義，所以傳統統計也不一定能夠發揮，是一個標準的大數據應用場景\n",
    "3. 數位廣告通常是大型網站獲取營收的主要方式，因此好的數位廣告成效，可以極大化網站經營方的收益，使他們能夠繼續支持服務品質\n",
    "4. 個人化的廣告計算也使得用戶不會單純的被廣告暴力轟炸，而是能真的讓廣告成為生活資訊的一部分，幫助他們探索它們感興趣的主題（想買電鍋時，跳出各種新型電鍋的資訊等等）"
   ]
  },
  {
   "cell_type": "code",
   "execution_count": null,
   "metadata": {},
   "outputs": [],
   "source": []
  }
 ],
 "metadata": {
  "kernelspec": {
   "display_name": "Python 3",
   "language": "python",
   "name": "python3"
  },
  "language_info": {
   "codemirror_mode": {
    "name": "ipython",
    "version": 3
   },
   "file_extension": ".py",
   "mimetype": "text/x-python",
   "name": "python",
   "nbconvert_exporter": "python",
   "pygments_lexer": "ipython3",
   "version": "3.7.1"
  }
 },
 "nbformat": 4,
 "nbformat_minor": 2
}
